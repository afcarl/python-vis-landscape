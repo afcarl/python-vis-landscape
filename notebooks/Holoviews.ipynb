{
 "cells": [
  {
   "cell_type": "markdown",
   "metadata": {},
   "source": [
    "# Holoviews"
   ]
  },
  {
   "cell_type": "markdown",
   "metadata": {},
   "source": [
    "## Installation\n",
    "\n",
    "```\n",
    "$ conda install -c conda-forge holoviews\n",
    "```"
   ]
  },
  {
   "cell_type": "markdown",
   "metadata": {},
   "source": [
    "## Notebook Setup"
   ]
  },
  {
   "cell_type": "code",
   "execution_count": 2,
   "metadata": {},
   "outputs": [
    {
     "name": "stdout",
     "output_type": "stream",
     "text": [
      "1.6.2\n",
      "0.12.5\n"
     ]
    }
   ],
   "source": [
    "import holoviews\n",
    "print(holoviews.__version__)\n",
    "\n",
    "import bokeh\n",
    "print(bokeh.__version__)"
   ]
  },
  {
   "cell_type": "code",
   "execution_count": 1,
   "metadata": {},
   "outputs": [
    {
     "name": "stderr",
     "output_type": "stream",
     "text": [
      "/Users/jakevdp/anaconda/envs/vis-talk/lib/python3.5/site-packages/bokeh/util/deprecation.py:34: BokehDeprecationWarning: MPL compatibility can no longer be successfully maintained, and is now deprecated. All MPL compat functions will be removed completely on the release of Bokeh 1.0. See http://bokeh.pydata.org/en/latest/docs/releases/0.12.5.html for more information\n",
      "  warn(message)\n",
      "WARNING:root:notebook_extension: HoloViews bokeh backend could not be imported, ensure bokeh is installed.\n"
     ]
    },
    {
     "data": {
      "text/html": [
       "<b>Warning:</b> Unrecognized resources bokeh"
      ],
      "text/plain": [
       "<IPython.core.display.HTML object>"
      ]
     },
     "metadata": {},
     "output_type": "display_data"
    },
    {
     "data": {
      "text/html": [
       "\n",
       "<script src=\"https://code.jquery.com/ui/1.10.4/jquery-ui.min.js\" type=\"text/javascript\"></script>\n",
       "<script type=\"text/javascript\"></script>\n",
       "\n",
       "\n",
       "<link rel=\"stylesheet\" href=\"https://code.jquery.com/ui/1.10.4/themes/smoothness/jquery-ui.css\">\n",
       "<style></style>\n",
       "\n",
       "\n",
       "<div>\n",
       "<img src='data:image/png;base64,iVBORw0KGgoAAAANSUhEUgAAABkAAAAZCAIAAABLixI0AAAACXBIWXMAAAsTAAALEwEAmpwYAAAAB3RJTUUH3wkCDDIOi3cusgAABT1JREFUOMtVlclvG2UYh3/fMovHe53FThySNHZomrRJl6QR0AJdpVblQBEHJC4ciipxAgmO3PgPEP8BQkIsRUJUSF1oqGih0JY2CtnjOLGz2Em8xPbMeL6Pw9RJOprLjPT+5tH7Pu83JE7pqeHh8wMD2evfyXMXf/nxB2FZo6dPNzVHvvr6GxMQeOEigARswNzzUgK6x8NagPzS0nqxODQ62nLn1xMnX99/eLC3sGVROj2/IBxHABKgANlzM4ACTuMRAOecNREiAWtzc0NIEu/M37zVMTWeqlrpUDg1M7NTVgdkowwvxqGRRV1CE8jOznq7uhYAi2CpXtdVVQE4QAAdCAAGwAAJyEa9Amh7PsAihBBAABrg1XUfpe3bxTXb8XR0WJa1VSzWGyAcUAEVoIAARIMOQH2HC4AA6lKW8/n9Pm/Ahl4zV8fGTg0PtzQ3K3tA3GId8AO+BqZLt8sFQKE0GouRSkWtFM63KV0Vy1rJhN44k56cFFI6exJ3MBWANACVHS63aw5QtutVVT/4xWfHv/0ylytmHvx56sIFLxACfIABGIAf8ANRn++9y5evXrkS0XWXd5dLJWRfOHwspA1tr4iFtP3gD8/apjCtSDiyQYhZKNA94wOQTCQPhfzm9FTJH8jn84Tz3SyPlEQ4vf0Dt5/MPE5vpVObzQbxqvaDdL731MnWnh5pmsxxdE3rTCZfO3u2FbL6+2+hzpcKwXA2ldrNUgAVII7TMXhkZnzcAQTgAWI6sgV7YmKivLra1tFxMJk4Ho/r5fLy3btsYS7JHL1YoeHQKldKhcLzLNcdlRDOWDgczuVyOtDt4yN9gRYVmc161TTLmYw9P9e8OHcU5dG2fa3EmhNyKjGwROmzZ8+YqlIAKsDd9jtOenIy1t8vgDJQtuvYrjRT0kMQBRIUQxqSXkSDUIO0YAulvdfxGk/u33eVZs2EeBvu6gCjtKW7Oz81xQBhI73mtATQn/BuZ6wTrezsYX+1Jn+aNR8sl9Zb47l4/O+HD2u27QDgnHUQwhvKuFmRaLS2tkZsmwJSQpqIUzHYyynndx5t/1Vy5gXyhMhorEJIKpViQB0QnFNlZzkbdExRhBAckIAFbFXFetkpg94er004WK6jCniamrRAYHlmxhXFtWTXVfW50SQYDjvVKm+YHVMR10G5VAGrcWAohkEVpbC1RRo7QN2mS0BzuQiJHziwMTurAwrgBTo95NVjnshb3XaF9q1MTM7VeWNv6kJQgAISYAAHuARUQAHA2NCZM35KJ27c6KA4YiBXJlpVro5bkaGN2mStsCy8gAXobpyU7iFhAgxQAB40jMHh4WhnJ6nVpsfGVjOZUQMhi40k9K1FqQZI4ogffd3k33GPobTb5kCIFmriEYjgnABao60KwD68eCnz5PH0vXsr4+OsVIpRvNmpnLvQEozRpm5vxAP107dx+RMlvGTcmw7Xle6DwZlsdbZY05qbAq2ta9msCkhAcM4+yv+3uFZWAA+gA5pEaUOUnpaMohb+/BK7+j76r4IliFoyAv9EjsZ4ZbMmyOKqmdvciiWTL4+OUsY8mkY554d7okGyciuHqgQFVIABlkJ9fV44FLFrz8ecuIZ3u6offzD1fSnFmJSgle35mzcdVQ1Eo23B4Eh7lJdWNgZGohM/r5QAjZEoaDzi0TfKPlFDV/KF35mqs0NN1v3iRrqqAT7Xbdti6UXPImKZaf5SQiUBtAIG0OVXXnmnDUJWb9nET7D8VPba7pAJTKRnxPUpI+v0BXlApZPrlgDaCTke1VqaaLZC/wesjSVVF5Ac7QAAAABJRU5ErkJggg=='\n",
       "     style='width:25px;height:25px; border-radius:12px;'/>\n",
       "\n",
       "HoloViewsJS successfully loaded in this cell.\n",
       "</div>\n"
      ],
      "text/plain": [
       "<IPython.core.display.HTML object>"
      ]
     },
     "metadata": {},
     "output_type": "display_data"
    }
   ],
   "source": [
    "import holoviews as hv\n",
    "hv.notebook_extension('bokeh')"
   ]
  },
  {
   "cell_type": "markdown",
   "metadata": {},
   "source": [
    "## Data"
   ]
  },
  {
   "cell_type": "code",
   "execution_count": 2,
   "metadata": {},
   "outputs": [
    {
     "data": {
      "text/html": [
       "<div>\n",
       "<table border=\"1\" class=\"dataframe\">\n",
       "  <thead>\n",
       "    <tr style=\"text-align: right;\">\n",
       "      <th></th>\n",
       "      <th>Acceleration</th>\n",
       "      <th>Cylinders</th>\n",
       "      <th>Displacement</th>\n",
       "      <th>Horsepower</th>\n",
       "      <th>Miles_per_Gallon</th>\n",
       "      <th>Name</th>\n",
       "      <th>Origin</th>\n",
       "      <th>Weight_in_lbs</th>\n",
       "      <th>Year</th>\n",
       "    </tr>\n",
       "  </thead>\n",
       "  <tbody>\n",
       "    <tr>\n",
       "      <th>0</th>\n",
       "      <td>12.0</td>\n",
       "      <td>8</td>\n",
       "      <td>307.0</td>\n",
       "      <td>130.0</td>\n",
       "      <td>18.0</td>\n",
       "      <td>chevrolet chevelle malibu</td>\n",
       "      <td>USA</td>\n",
       "      <td>3504</td>\n",
       "      <td>1970-01-01</td>\n",
       "    </tr>\n",
       "    <tr>\n",
       "      <th>1</th>\n",
       "      <td>11.5</td>\n",
       "      <td>8</td>\n",
       "      <td>350.0</td>\n",
       "      <td>165.0</td>\n",
       "      <td>15.0</td>\n",
       "      <td>buick skylark 320</td>\n",
       "      <td>USA</td>\n",
       "      <td>3693</td>\n",
       "      <td>1970-01-01</td>\n",
       "    </tr>\n",
       "    <tr>\n",
       "      <th>2</th>\n",
       "      <td>11.0</td>\n",
       "      <td>8</td>\n",
       "      <td>318.0</td>\n",
       "      <td>150.0</td>\n",
       "      <td>18.0</td>\n",
       "      <td>plymouth satellite</td>\n",
       "      <td>USA</td>\n",
       "      <td>3436</td>\n",
       "      <td>1970-01-01</td>\n",
       "    </tr>\n",
       "    <tr>\n",
       "      <th>3</th>\n",
       "      <td>12.0</td>\n",
       "      <td>8</td>\n",
       "      <td>304.0</td>\n",
       "      <td>150.0</td>\n",
       "      <td>16.0</td>\n",
       "      <td>amc rebel sst</td>\n",
       "      <td>USA</td>\n",
       "      <td>3433</td>\n",
       "      <td>1970-01-01</td>\n",
       "    </tr>\n",
       "    <tr>\n",
       "      <th>4</th>\n",
       "      <td>10.5</td>\n",
       "      <td>8</td>\n",
       "      <td>302.0</td>\n",
       "      <td>140.0</td>\n",
       "      <td>17.0</td>\n",
       "      <td>ford torino</td>\n",
       "      <td>USA</td>\n",
       "      <td>3449</td>\n",
       "      <td>1970-01-01</td>\n",
       "    </tr>\n",
       "  </tbody>\n",
       "</table>\n",
       "</div>"
      ],
      "text/plain": [
       "   Acceleration  Cylinders  Displacement  Horsepower  Miles_per_Gallon  \\\n",
       "0          12.0          8         307.0       130.0              18.0   \n",
       "1          11.5          8         350.0       165.0              15.0   \n",
       "2          11.0          8         318.0       150.0              18.0   \n",
       "3          12.0          8         304.0       150.0              16.0   \n",
       "4          10.5          8         302.0       140.0              17.0   \n",
       "\n",
       "                        Name Origin  Weight_in_lbs        Year  \n",
       "0  chevrolet chevelle malibu    USA           3504  1970-01-01  \n",
       "1          buick skylark 320    USA           3693  1970-01-01  \n",
       "2         plymouth satellite    USA           3436  1970-01-01  \n",
       "3              amc rebel sst    USA           3433  1970-01-01  \n",
       "4                ford torino    USA           3449  1970-01-01  "
      ]
     },
     "execution_count": 2,
     "metadata": {},
     "output_type": "execute_result"
    }
   ],
   "source": [
    "import pandas as pd\n",
    "data = pd.read_csv('cars.csv')\n",
    "data.head()"
   ]
  },
  {
   "cell_type": "markdown",
   "metadata": {},
   "source": [
    "## Scatter Plot"
   ]
  },
  {
   "cell_type": "code",
   "execution_count": 3,
   "metadata": {},
   "outputs": [
    {
     "data": {
      "text/html": [
       "<img src='data:image/png;base64,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' style='max-width:100%; margin: auto; display: block; '/>"
      ],
      "text/plain": [
       "b':Scatter   [x]   (y)'"
      ]
     },
     "execution_count": 3,
     "metadata": {},
     "output_type": "execute_result"
    }
   ],
   "source": [
    "hv.Scatter({'x': data.Horsepower,\n",
    "            'y': data.Miles_per_Gallon})"
   ]
  }
 ],
 "metadata": {
  "kernelspec": {
   "display_name": "Viz Talk",
   "language": "python",
   "name": "viz-talk"
  },
  "language_info": {
   "codemirror_mode": {
    "name": "ipython",
    "version": 3
   },
   "file_extension": ".py",
   "mimetype": "text/x-python",
   "name": "python",
   "nbconvert_exporter": "python",
   "pygments_lexer": "ipython3",
   "version": "3.5.3"
  }
 },
 "nbformat": 4,
 "nbformat_minor": 2
}
